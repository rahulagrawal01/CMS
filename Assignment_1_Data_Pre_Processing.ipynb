{
  "nbformat": 4,
  "nbformat_minor": 0,
  "metadata": {
    "colab": {
      "name": "Assignment 1 Data Pre Processing.ipynb",
      "provenance": [],
      "authorship_tag": "ABX9TyM3eRjVDS5Ghsj7jqjdJ/bK",
      "include_colab_link": true
    },
    "kernelspec": {
      "name": "python3",
      "display_name": "Python 3"
    }
  },
  "cells": [
    {
      "cell_type": "markdown",
      "metadata": {
        "id": "view-in-github",
        "colab_type": "text"
      },
      "source": [
        "<a href=\"https://colab.research.google.com/github/rahulagrawal01/CMS/blob/master/Assignment_1_Data_Pre_Processing.ipynb\" target=\"_parent\"><img src=\"https://colab.research.google.com/assets/colab-badge.svg\" alt=\"Open In Colab\"/></a>"
      ]
    },
    {
      "cell_type": "code",
      "metadata": {
        "id": "MR6-4WMqgCwM"
      },
      "source": [
        "# Data Preprocessing\r\n",
        "\r\n",
        "# Importing the libraries\r\n",
        "import numpy as np\r\n",
        "import matplotlib.pyplot as plt\r\n",
        "import pandas as pd"
      ],
      "execution_count": 1,
      "outputs": []
    },
    {
      "cell_type": "code",
      "metadata": {
        "colab": {
          "resources": {
            "http://localhost:8080/nbextensions/google.colab/files.js": {
              "data": "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",
              "ok": true,
              "headers": [
                [
                  "content-type",
                  "application/javascript"
                ]
              ],
              "status": 200,
              "status_text": ""
            }
          },
          "base_uri": "https://localhost:8080/",
          "height": 72
        },
        "id": "GzkfcC2pgqQ_",
        "outputId": "37cca852-ff6c-4700-975a-c4e6e23cff68"
      },
      "source": [
        "# Load  data from Local drive\r\n",
        "from google.colab import files\r\n",
        "uploaded = files.upload()"
      ],
      "execution_count": 11,
      "outputs": [
        {
          "output_type": "display_data",
          "data": {
            "text/html": [
              "\n",
              "     <input type=\"file\" id=\"files-2e9c048f-3743-4cd2-a486-6aebc17da7f7\" name=\"files[]\" multiple disabled\n",
              "        style=\"border:none\" />\n",
              "     <output id=\"result-2e9c048f-3743-4cd2-a486-6aebc17da7f7\">\n",
              "      Upload widget is only available when the cell has been executed in the\n",
              "      current browser session. Please rerun this cell to enable.\n",
              "      </output>\n",
              "      <script src=\"/nbextensions/google.colab/files.js\"></script> "
            ],
            "text/plain": [
              "<IPython.core.display.HTML object>"
            ]
          },
          "metadata": {
            "tags": []
          }
        },
        {
          "output_type": "stream",
          "text": [
            "Saving Salaries.csv to Salaries.csv\n"
          ],
          "name": "stdout"
        }
      ]
    },
    {
      "cell_type": "code",
      "metadata": {
        "colab": {
          "base_uri": "https://localhost:8080/",
          "height": 657
        },
        "id": "cZmc8ihIg1DC",
        "outputId": "aaa78528-c081-40d1-eef8-ff28df39a446"
      },
      "source": [
        "# Importing the dataset\r\n",
        "dataset = pd.read_csv('Salaries.csv')\r\n",
        "print(dataset)\r\n",
        "dataset"
      ],
      "execution_count": 12,
      "outputs": [
        {
          "output_type": "stream",
          "text": [
            "         rank discipline   phd  service     sex  salary\n",
            "0        Prof          B  56.0     49.0    Male  186960\n",
            "1        Prof          A  12.0      6.0    Male   93000\n",
            "2        Prof          A  23.0     20.0    Male  110515\n",
            "3        Prof          A  40.0     31.0    Male  131205\n",
            "4        Prof          B  20.0     18.0    Male  104800\n",
            "..        ...        ...   ...      ...     ...     ...\n",
            "73       Prof          B  18.0     10.0  Female  105450\n",
            "74  AssocProf          B  19.0      6.0  Female  104542\n",
            "75       Prof          B  17.0     17.0  Female  124312\n",
            "76       Prof          A  28.0     14.0  Female  109954\n",
            "77       Prof          A  23.0     15.0  Female  109646\n",
            "\n",
            "[78 rows x 6 columns]\n"
          ],
          "name": "stdout"
        },
        {
          "output_type": "execute_result",
          "data": {
            "text/html": [
              "<div>\n",
              "<style scoped>\n",
              "    .dataframe tbody tr th:only-of-type {\n",
              "        vertical-align: middle;\n",
              "    }\n",
              "\n",
              "    .dataframe tbody tr th {\n",
              "        vertical-align: top;\n",
              "    }\n",
              "\n",
              "    .dataframe thead th {\n",
              "        text-align: right;\n",
              "    }\n",
              "</style>\n",
              "<table border=\"1\" class=\"dataframe\">\n",
              "  <thead>\n",
              "    <tr style=\"text-align: right;\">\n",
              "      <th></th>\n",
              "      <th>rank</th>\n",
              "      <th>discipline</th>\n",
              "      <th>phd</th>\n",
              "      <th>service</th>\n",
              "      <th>sex</th>\n",
              "      <th>salary</th>\n",
              "    </tr>\n",
              "  </thead>\n",
              "  <tbody>\n",
              "    <tr>\n",
              "      <th>0</th>\n",
              "      <td>Prof</td>\n",
              "      <td>B</td>\n",
              "      <td>56.0</td>\n",
              "      <td>49.0</td>\n",
              "      <td>Male</td>\n",
              "      <td>186960</td>\n",
              "    </tr>\n",
              "    <tr>\n",
              "      <th>1</th>\n",
              "      <td>Prof</td>\n",
              "      <td>A</td>\n",
              "      <td>12.0</td>\n",
              "      <td>6.0</td>\n",
              "      <td>Male</td>\n",
              "      <td>93000</td>\n",
              "    </tr>\n",
              "    <tr>\n",
              "      <th>2</th>\n",
              "      <td>Prof</td>\n",
              "      <td>A</td>\n",
              "      <td>23.0</td>\n",
              "      <td>20.0</td>\n",
              "      <td>Male</td>\n",
              "      <td>110515</td>\n",
              "    </tr>\n",
              "    <tr>\n",
              "      <th>3</th>\n",
              "      <td>Prof</td>\n",
              "      <td>A</td>\n",
              "      <td>40.0</td>\n",
              "      <td>31.0</td>\n",
              "      <td>Male</td>\n",
              "      <td>131205</td>\n",
              "    </tr>\n",
              "    <tr>\n",
              "      <th>4</th>\n",
              "      <td>Prof</td>\n",
              "      <td>B</td>\n",
              "      <td>20.0</td>\n",
              "      <td>18.0</td>\n",
              "      <td>Male</td>\n",
              "      <td>104800</td>\n",
              "    </tr>\n",
              "    <tr>\n",
              "      <th>...</th>\n",
              "      <td>...</td>\n",
              "      <td>...</td>\n",
              "      <td>...</td>\n",
              "      <td>...</td>\n",
              "      <td>...</td>\n",
              "      <td>...</td>\n",
              "    </tr>\n",
              "    <tr>\n",
              "      <th>73</th>\n",
              "      <td>Prof</td>\n",
              "      <td>B</td>\n",
              "      <td>18.0</td>\n",
              "      <td>10.0</td>\n",
              "      <td>Female</td>\n",
              "      <td>105450</td>\n",
              "    </tr>\n",
              "    <tr>\n",
              "      <th>74</th>\n",
              "      <td>AssocProf</td>\n",
              "      <td>B</td>\n",
              "      <td>19.0</td>\n",
              "      <td>6.0</td>\n",
              "      <td>Female</td>\n",
              "      <td>104542</td>\n",
              "    </tr>\n",
              "    <tr>\n",
              "      <th>75</th>\n",
              "      <td>Prof</td>\n",
              "      <td>B</td>\n",
              "      <td>17.0</td>\n",
              "      <td>17.0</td>\n",
              "      <td>Female</td>\n",
              "      <td>124312</td>\n",
              "    </tr>\n",
              "    <tr>\n",
              "      <th>76</th>\n",
              "      <td>Prof</td>\n",
              "      <td>A</td>\n",
              "      <td>28.0</td>\n",
              "      <td>14.0</td>\n",
              "      <td>Female</td>\n",
              "      <td>109954</td>\n",
              "    </tr>\n",
              "    <tr>\n",
              "      <th>77</th>\n",
              "      <td>Prof</td>\n",
              "      <td>A</td>\n",
              "      <td>23.0</td>\n",
              "      <td>15.0</td>\n",
              "      <td>Female</td>\n",
              "      <td>109646</td>\n",
              "    </tr>\n",
              "  </tbody>\n",
              "</table>\n",
              "<p>78 rows × 6 columns</p>\n",
              "</div>"
            ],
            "text/plain": [
              "         rank discipline   phd  service     sex  salary\n",
              "0        Prof          B  56.0     49.0    Male  186960\n",
              "1        Prof          A  12.0      6.0    Male   93000\n",
              "2        Prof          A  23.0     20.0    Male  110515\n",
              "3        Prof          A  40.0     31.0    Male  131205\n",
              "4        Prof          B  20.0     18.0    Male  104800\n",
              "..        ...        ...   ...      ...     ...     ...\n",
              "73       Prof          B  18.0     10.0  Female  105450\n",
              "74  AssocProf          B  19.0      6.0  Female  104542\n",
              "75       Prof          B  17.0     17.0  Female  124312\n",
              "76       Prof          A  28.0     14.0  Female  109954\n",
              "77       Prof          A  23.0     15.0  Female  109646\n",
              "\n",
              "[78 rows x 6 columns]"
            ]
          },
          "metadata": {
            "tags": []
          },
          "execution_count": 12
        }
      ]
    },
    {
      "cell_type": "code",
      "metadata": {
        "colab": {
          "base_uri": "https://localhost:8080/"
        },
        "id": "MXoHSrBMg1H0",
        "outputId": "faac38f4-2f34-47f0-88b4-0e0595026014"
      },
      "source": [
        "#Print Total number of Rows & columns in dataset\r\n",
        "print(dataset.shape)"
      ],
      "execution_count": 13,
      "outputs": [
        {
          "output_type": "stream",
          "text": [
            "(78, 6)\n"
          ],
          "name": "stdout"
        }
      ]
    },
    {
      "cell_type": "code",
      "metadata": {
        "colab": {
          "base_uri": "https://localhost:8080/"
        },
        "id": "Mbi82s31g1M5",
        "outputId": "c72552b2-e069-46f4-be0a-2bf2800ac22e"
      },
      "source": [
        "#Print Information about data\r\n",
        "dataset.info()"
      ],
      "execution_count": 14,
      "outputs": [
        {
          "output_type": "stream",
          "text": [
            "<class 'pandas.core.frame.DataFrame'>\n",
            "RangeIndex: 78 entries, 0 to 77\n",
            "Data columns (total 6 columns):\n",
            " #   Column      Non-Null Count  Dtype  \n",
            "---  ------      --------------  -----  \n",
            " 0   rank        74 non-null     object \n",
            " 1   discipline  75 non-null     object \n",
            " 2   phd         76 non-null     float64\n",
            " 3   service     77 non-null     float64\n",
            " 4   sex         77 non-null     object \n",
            " 5   salary      78 non-null     int64  \n",
            "dtypes: float64(2), int64(1), object(3)\n",
            "memory usage: 3.8+ KB\n"
          ],
          "name": "stdout"
        }
      ]
    },
    {
      "cell_type": "code",
      "metadata": {
        "colab": {
          "base_uri": "https://localhost:8080/"
        },
        "id": "T8BCMBnfg1Rv",
        "outputId": "5b80719e-2ecc-4cd0-befc-6ec9ab9bf47a"
      },
      "source": [
        "#Print Information Datatypes\r\n",
        "datatypes = dataset.dtypes\r\n",
        "print(datatypes)"
      ],
      "execution_count": 15,
      "outputs": [
        {
          "output_type": "stream",
          "text": [
            "rank           object\n",
            "discipline     object\n",
            "phd           float64\n",
            "service       float64\n",
            "sex            object\n",
            "salary          int64\n",
            "dtype: object\n"
          ],
          "name": "stdout"
        }
      ]
    },
    {
      "cell_type": "code",
      "metadata": {
        "colab": {
          "base_uri": "https://localhost:8080/"
        },
        "id": "wAazOe1Dg1VR",
        "outputId": "612d4b54-b71e-413d-bc9b-661cb69ca3e7"
      },
      "source": [
        "#Count total number of classes in Data\r\n",
        "class_counts = dataset.groupby('rank').size()\r\n",
        "print(class_counts)"
      ],
      "execution_count": 16,
      "outputs": [
        {
          "output_type": "stream",
          "text": [
            "rank\n",
            "AssocProf    12\n",
            "AsstProf     18\n",
            "Prof         44\n",
            "dtype: int64\n"
          ],
          "name": "stdout"
        }
      ]
    },
    {
      "cell_type": "code",
      "metadata": {
        "colab": {
          "base_uri": "https://localhost:8080/"
        },
        "id": "zoz59BZng1YR",
        "outputId": "4ec56d18-5e2f-4862-eb06-dfca0d02ae02"
      },
      "source": [
        "#Count total number of classes in Data\r\n",
        "class_counts = dataset.groupby('sex').size()\r\n",
        "print(class_counts)"
      ],
      "execution_count": 17,
      "outputs": [
        {
          "output_type": "stream",
          "text": [
            "sex\n",
            "Female    39\n",
            "Male      38\n",
            "dtype: int64\n"
          ],
          "name": "stdout"
        }
      ]
    },
    {
      "cell_type": "code",
      "metadata": {
        "colab": {
          "base_uri": "https://localhost:8080/",
          "height": 281
        },
        "id": "a-EhBVIWg1bM",
        "outputId": "9bd54036-76c7-4c6f-c2d3-38afc3f46da2"
      },
      "source": [
        "from matplotlib import pyplot\r\n",
        "dataset.hist()\r\n",
        "pyplot.show()"
      ],
      "execution_count": 20,
      "outputs": [
        {
          "output_type": "display_data",
          "data": {
            "image/png": "[encoded data removed]",
            "text/plain": [
              "<Figure size 432x288 with 4 Axes>"
            ]
          },
          "metadata": {
            "tags": [],
            "needs_background": "light"
          }
        }
      ]
    },
    {
      "cell_type": "code",
      "metadata": {
        "colab": {
          "base_uri": "https://localhost:8080/",
          "height": 123
        },
        "id": "EXuzcNmsg1d1",
        "outputId": "44276260-d669-4604-f8a7-368392fdd2d5"
      },
      "source": [
        "dataset.plot(kind='density' ,subplots=True, layout=(3,3), sharex=False)\r\n",
        "pyplot.show()"
      ],
      "execution_count": 21,
      "outputs": [
        {
          "output_type": "display_data",
          "data": {
            "image/png": "[encoded data removed]",
            "text/plain": [
              "<Figure size 432x288 with 9 Axes>"
            ]
          },
          "metadata": {
            "tags": [],
            "needs_background": "light"
          }
        }
      ]
    },
    {
      "cell_type": "code",
      "metadata": {
        "colab": {
          "base_uri": "https://localhost:8080/"
        },
        "id": "_uF-L3rLg1gc",
        "outputId": "1f7fa2f1-e27c-45d5-cc2b-9bd45cbba5eb"
      },
      "source": [
        "#Find out missing values\r\n",
        "dataset.isnull().sum()"
      ],
      "execution_count": 22,
      "outputs": [
        {
          "output_type": "execute_result",
          "data": {
            "text/plain": [
              "rank          4\n",
              "discipline    3\n",
              "phd           2\n",
              "service       1\n",
              "sex           1\n",
              "salary        0\n",
              "dtype: int64"
            ]
          },
          "metadata": {
            "tags": []
          },
          "execution_count": 22
        }
      ]
    },
    {
      "cell_type": "code",
      "metadata": {
        "id": "iN5mWsTMo3BK"
      },
      "source": [
        "# Extracting dependent and independent variables:\r\n",
        "# Extracting independent variable:\r\n",
        "X = dataset.iloc[:,0:5].values\r\n",
        "# Extracting dependent variable:\r\n",
        "y = dataset.iloc[:, 5].values"
      ],
      "execution_count": 38,
      "outputs": []
    },
    {
      "cell_type": "code",
      "metadata": {
        "colab": {
          "base_uri": "https://localhost:8080/"
        },
        "id": "5VyRFKf2o3G3",
        "outputId": "085a6d8e-4b45-4bb3-c0cf-2013b11b8b03"
      },
      "source": [
        "print(X.shape)\r\n",
        "print(X)"
      ],
      "execution_count": 39,
      "outputs": [
        {
          "output_type": "stream",
          "text": [
            "(78, 5)\n",
            "[['Prof' 'B' 56.0 49.0 'Male']\n",
            " ['Prof' 'A' 12.0 6.0 'Male']\n",
            " ['Prof' 'A' 23.0 20.0 'Male']\n",
            " ['Prof' 'A' 40.0 31.0 'Male']\n",
            " ['Prof' 'B' 20.0 18.0 'Male']\n",
            " ['Prof' 'A' 20.0 20.0 'Male']\n",
            " ['AssocProf' 'A' 20.0 17.0 'Male']\n",
            " ['Prof' 'A' 18.0 18.0 'Male']\n",
            " ['Prof' 'A' 29.0 19.0 'Male']\n",
            " ['Prof' 'A' 51.0 51.0 'Male']\n",
            " ['Prof' 'B' nan 33.0 'Male']\n",
            " ['Prof' 'B' 23.0 23.0 'Male']\n",
            " ['AsstProf' 'B' 1.0 0.0 'Male']\n",
            " ['Prof' 'B' 35.0 33.0 'Male']\n",
            " ['Prof' 'B' 25.0 19.0 'Male']\n",
            " ['Prof' 'B' 17.0 nan 'Male']\n",
            " ['AsstProf' 'B' 8.0 3.0 'Male']\n",
            " ['AsstProf' 'B' 4.0 0.0 nan]\n",
            " ['Prof' 'A' 19.0 7.0 'Male']\n",
            " ['Prof' 'A' nan 27.0 'Male']\n",
            " ['AsstProf' 'B' 4.0 4.0 'Male']\n",
            " ['Prof' nan 33.0 30.0 'Male']\n",
            " ['AsstProf' 'A' 4.0 2.0 'Male']\n",
            " ['AsstProf' 'A' 2.0 0.0 'Male']\n",
            " [nan 'A' 30.0 23.0 'Male']\n",
            " ['Prof' 'B' 35.0 31.0 'Male']\n",
            " ['Prof' 'A' 38.0 19.0 'Male']\n",
            " ['Prof' 'A' 45.0 43.0 'Male']\n",
            " ['AsstProf' nan 7.0 2.0 'Male']\n",
            " ['Prof' 'B' 21.0 20.0 'Male']\n",
            " ['AssocProf' 'B' 9.0 7.0 'Male']\n",
            " ['Prof' 'B' 22.0 21.0 'Male']\n",
            " ['Prof' nan 27.0 19.0 'Male']\n",
            " ['Prof' 'B' 18.0 18.0 'Male']\n",
            " [nan 'B' 12.0 8.0 'Male']\n",
            " ['Prof' 'B' 28.0 23.0 'Male']\n",
            " ['Prof' 'B' 45.0 45.0 'Male']\n",
            " ['Prof' 'A' 20.0 8.0 'Male']\n",
            " ['AsstProf' 'B' 4.0 3.0 'Male']\n",
            " [nan 'B' 18.0 18.0 'Female']\n",
            " ['Prof' 'A' 39.0 36.0 'Female']\n",
            " ['AssocProf' 'A' 13.0 8.0 'Female']\n",
            " [nan 'B' 4.0 2.0 'Female']\n",
            " ['AsstProf' 'B' 5.0 0.0 'Female']\n",
            " ['Prof' 'B' 23.0 19.0 'Female']\n",
            " ['Prof' 'B' 25.0 25.0 'Female']\n",
            " ['AsstProf' 'B' 11.0 3.0 'Female']\n",
            " ['AssocProf' 'B' 11.0 11.0 'Female']\n",
            " ['Prof' 'B' 17.0 17.0 'Female']\n",
            " ['Prof' 'B' 17.0 18.0 'Female']\n",
            " ['AsstProf' 'B' 10.0 5.0 'Female']\n",
            " ['Prof' 'B' 20.0 14.0 'Female']\n",
            " ['Prof' 'A' 12.0 0.0 'Female']\n",
            " ['AsstProf' 'A' 5.0 3.0 'Female']\n",
            " ['AssocProf' 'A' 25.0 22.0 'Female']\n",
            " ['AsstProf' 'A' 2.0 0.0 'Female']\n",
            " ['AssocProf' 'A' 10.0 8.0 'Female']\n",
            " ['AsstProf' 'A' 3.0 1.0 'Female']\n",
            " ['Prof' 'B' 36.0 26.0 'Female']\n",
            " ['AssocProf' 'B' 12.0 10.0 'Female']\n",
            " ['AsstProf' 'B' 3.0 3.0 'Female']\n",
            " ['AssocProf' 'B' 13.0 10.0 'Female']\n",
            " ['AssocProf' 'B' 14.0 7.0 'Female']\n",
            " ['Prof' 'A' 29.0 27.0 'Female']\n",
            " ['AssocProf' 'A' 26.0 24.0 'Female']\n",
            " ['Prof' 'A' 36.0 19.0 'Female']\n",
            " ['AsstProf' 'A' 7.0 6.0 'Female']\n",
            " ['Prof' 'A' 17.0 11.0 'Female']\n",
            " ['AsstProf' 'A' 4.0 2.0 'Female']\n",
            " ['Prof' 'A' 28.0 7.0 'Female']\n",
            " ['AsstProf' 'A' 8.0 3.0 'Female']\n",
            " ['AssocProf' 'B' 12.0 9.0 'Female']\n",
            " ['Prof' 'B' 24.0 15.0 'Female']\n",
            " ['Prof' 'B' 18.0 10.0 'Female']\n",
            " ['AssocProf' 'B' 19.0 6.0 'Female']\n",
            " ['Prof' 'B' 17.0 17.0 'Female']\n",
            " ['Prof' 'A' 28.0 14.0 'Female']\n",
            " ['Prof' 'A' 23.0 15.0 'Female']]\n"
          ],
          "name": "stdout"
        }
      ]
    },
    {
      "cell_type": "code",
      "metadata": {
        "colab": {
          "base_uri": "https://localhost:8080/"
        },
        "id": "UaB9h2MQo3LC",
        "outputId": "508d439a-7670-4de1-8918-4fc3d76eb4de"
      },
      "source": [
        "print(y.shape)\r\n",
        "print(y)\r\n",
        "\r\n"
      ],
      "execution_count": 28,
      "outputs": [
        {
          "output_type": "stream",
          "text": [
            "(78,)\n",
            "[186960  93000 110515 131205 104800 122400  81285 126300  94350  57800\n",
            " 128250 134778  88000 162200 153750 150480  75044  92000 107300 150500\n",
            "  92000 103106  73000  85000  91100  99418 148750 155865  91300 123683\n",
            " 107008 155750 103275 120000 119800 126933 146856 102000  91000 129000\n",
            " 137000  74830  80225  77000 151768 140096  74692 103613 111512 122960\n",
            "  97032 127512 105000  73500  62884  72500  77500  72500 144651 103994\n",
            "  92000 103750 109650  91000  73300 117555  63100  90450  77500 116450\n",
            "  78500  71065 161101 105450 104542 124312 109954 109646]\n"
          ],
          "name": "stdout"
        }
      ]
    },
    {
      "cell_type": "code",
      "metadata": {
        "id": "fQZfdiQUo3N-"
      },
      "source": [
        "# Taking care of missing data\r\n",
        "#handling missing data (Replacing missing data with the mean value)  \r\n",
        "from sklearn.impute import SimpleImputer\r\n",
        "imputer = SimpleImputer(missing_values= np.NAN, strategy= 'mean', fill_value=None, verbose=1, copy=True)\r\n",
        "#Fitting imputer object to the independent variables x.   \r\n",
        "imputer = imputer.fit(X[:, 2:4]) \r\n",
        "#Replacing missing data with the calculated mean value  \r\n",
        "X[:, 2:4]= imputer.transform(X[:, 2:4])  \r\n"
      ],
      "execution_count": 40,
      "outputs": []
    },
    {
      "cell_type": "code",
      "metadata": {
        "colab": {
          "base_uri": "https://localhost:8080/"
        },
        "id": "dM3DhZ9jr_a0",
        "outputId": "e60b6fc8-607c-4ad5-da59-fdb53bc411c6"
      },
      "source": [
        "print(X.shape)\r\n",
        "print(X)"
      ],
      "execution_count": 41,
      "outputs": [
        {
          "output_type": "stream",
          "text": [
            "(78, 5)\n",
            "[['Prof' 'B' 56.0 49.0 'Male']\n",
            " ['Prof' 'A' 12.0 6.0 'Male']\n",
            " ['Prof' 'A' 23.0 20.0 'Male']\n",
            " ['Prof' 'A' 40.0 31.0 'Male']\n",
            " ['Prof' 'B' 20.0 18.0 'Male']\n",
            " ['Prof' 'A' 20.0 20.0 'Male']\n",
            " ['AssocProf' 'A' 20.0 17.0 'Male']\n",
            " ['Prof' 'A' 18.0 18.0 'Male']\n",
            " ['Prof' 'A' 29.0 19.0 'Male']\n",
            " ['Prof' 'A' 51.0 51.0 'Male']\n",
            " ['Prof' 'B' 19.32894736842105 33.0 'Male']\n",
            " ['Prof' 'B' 23.0 23.0 'Male']\n",
            " ['AsstProf' 'B' 1.0 0.0 'Male']\n",
            " ['Prof' 'B' 35.0 33.0 'Male']\n",
            " ['Prof' 'B' 25.0 19.0 'Male']\n",
            " ['Prof' 'B' 17.0 15.207792207792208 'Male']\n",
            " ['AsstProf' 'B' 8.0 3.0 'Male']\n",
            " ['AsstProf' 'B' 4.0 0.0 nan]\n",
            " ['Prof' 'A' 19.0 7.0 'Male']\n",
            " ['Prof' 'A' 19.32894736842105 27.0 'Male']\n",
            " ['AsstProf' 'B' 4.0 4.0 'Male']\n",
            " ['Prof' nan 33.0 30.0 'Male']\n",
            " ['AsstProf' 'A' 4.0 2.0 'Male']\n",
            " ['AsstProf' 'A' 2.0 0.0 'Male']\n",
            " [nan 'A' 30.0 23.0 'Male']\n",
            " ['Prof' 'B' 35.0 31.0 'Male']\n",
            " ['Prof' 'A' 38.0 19.0 'Male']\n",
            " ['Prof' 'A' 45.0 43.0 'Male']\n",
            " ['AsstProf' nan 7.0 2.0 'Male']\n",
            " ['Prof' 'B' 21.0 20.0 'Male']\n",
            " ['AssocProf' 'B' 9.0 7.0 'Male']\n",
            " ['Prof' 'B' 22.0 21.0 'Male']\n",
            " ['Prof' nan 27.0 19.0 'Male']\n",
            " ['Prof' 'B' 18.0 18.0 'Male']\n",
            " [nan 'B' 12.0 8.0 'Male']\n",
            " ['Prof' 'B' 28.0 23.0 'Male']\n",
            " ['Prof' 'B' 45.0 45.0 'Male']\n",
            " ['Prof' 'A' 20.0 8.0 'Male']\n",
            " ['AsstProf' 'B' 4.0 3.0 'Male']\n",
            " [nan 'B' 18.0 18.0 'Female']\n",
            " ['Prof' 'A' 39.0 36.0 'Female']\n",
            " ['AssocProf' 'A' 13.0 8.0 'Female']\n",
            " [nan 'B' 4.0 2.0 'Female']\n",
            " ['AsstProf' 'B' 5.0 0.0 'Female']\n",
            " ['Prof' 'B' 23.0 19.0 'Female']\n",
            " ['Prof' 'B' 25.0 25.0 'Female']\n",
            " ['AsstProf' 'B' 11.0 3.0 'Female']\n",
            " ['AssocProf' 'B' 11.0 11.0 'Female']\n",
            " ['Prof' 'B' 17.0 17.0 'Female']\n",
            " ['Prof' 'B' 17.0 18.0 'Female']\n",
            " ['AsstProf' 'B' 10.0 5.0 'Female']\n",
            " ['Prof' 'B' 20.0 14.0 'Female']\n",
            " ['Prof' 'A' 12.0 0.0 'Female']\n",
            " ['AsstProf' 'A' 5.0 3.0 'Female']\n",
            " ['AssocProf' 'A' 25.0 22.0 'Female']\n",
            " ['AsstProf' 'A' 2.0 0.0 'Female']\n",
            " ['AssocProf' 'A' 10.0 8.0 'Female']\n",
            " ['AsstProf' 'A' 3.0 1.0 'Female']\n",
            " ['Prof' 'B' 36.0 26.0 'Female']\n",
            " ['AssocProf' 'B' 12.0 10.0 'Female']\n",
            " ['AsstProf' 'B' 3.0 3.0 'Female']\n",
            " ['AssocProf' 'B' 13.0 10.0 'Female']\n",
            " ['AssocProf' 'B' 14.0 7.0 'Female']\n",
            " ['Prof' 'A' 29.0 27.0 'Female']\n",
            " ['AssocProf' 'A' 26.0 24.0 'Female']\n",
            " ['Prof' 'A' 36.0 19.0 'Female']\n",
            " ['AsstProf' 'A' 7.0 6.0 'Female']\n",
            " ['Prof' 'A' 17.0 11.0 'Female']\n",
            " ['AsstProf' 'A' 4.0 2.0 'Female']\n",
            " ['Prof' 'A' 28.0 7.0 'Female']\n",
            " ['AsstProf' 'A' 8.0 3.0 'Female']\n",
            " ['AssocProf' 'B' 12.0 9.0 'Female']\n",
            " ['Prof' 'B' 24.0 15.0 'Female']\n",
            " ['Prof' 'B' 18.0 10.0 'Female']\n",
            " ['AssocProf' 'B' 19.0 6.0 'Female']\n",
            " ['Prof' 'B' 17.0 17.0 'Female']\n",
            " ['Prof' 'A' 28.0 14.0 'Female']\n",
            " ['Prof' 'A' 23.0 15.0 'Female']]\n"
          ],
          "name": "stdout"
        }
      ]
    },
    {
      "cell_type": "code",
      "metadata": {
        "id": "Ce_QAhLTr_iO"
      },
      "source": [
        "# Taking care of missing data\r\n",
        "#handling missing data (Replacing missing data with the mean value)  \r\n",
        "from sklearn.impute import SimpleImputer\r\n",
        "imputer = SimpleImputer(missing_values= np.NAN, strategy= 'most_frequent', fill_value=None, verbose=1, copy=True)\r\n",
        "#Fitting imputer object to the independent variables x.   \r\n",
        "imputer = imputer.fit(X[:, 0:5]) \r\n",
        "#Replacing missing data with the calculated mean value  \r\n",
        "X[:, 0:5]= imputer.transform(X[:, 0:5])  \r\n"
      ],
      "execution_count": 50,
      "outputs": []
    },
    {
      "cell_type": "code",
      "metadata": {
        "colab": {
          "base_uri": "https://localhost:8080/"
        },
        "id": "PjAjlflqr_mh",
        "outputId": "cc29f010-982d-4636-d720-e894dcb62c68"
      },
      "source": [
        "print(X.shape)\r\n",
        "print(X)\r\n"
      ],
      "execution_count": 51,
      "outputs": [
        {
          "output_type": "stream",
          "text": [
            "(78, 5)\n",
            "[['Prof' 'B' 56.0 49.0 'Male']\n",
            " ['Prof' 'A' 12.0 6.0 'Male']\n",
            " ['Prof' 'A' 23.0 20.0 'Male']\n",
            " ['Prof' 'A' 40.0 31.0 'Male']\n",
            " ['Prof' 'B' 20.0 18.0 'Male']\n",
            " ['Prof' 'A' 20.0 20.0 'Male']\n",
            " ['AssocProf' 'A' 20.0 17.0 'Male']\n",
            " ['Prof' 'A' 18.0 18.0 'Male']\n",
            " ['Prof' 'A' 29.0 19.0 'Male']\n",
            " ['Prof' 'A' 51.0 51.0 'Male']\n",
            " ['Prof' 'B' 19.32894736842105 33.0 'Male']\n",
            " ['Prof' 'B' 23.0 23.0 'Male']\n",
            " ['AsstProf' 'B' 1.0 0.0 'Male']\n",
            " ['Prof' 'B' 35.0 33.0 'Male']\n",
            " ['Prof' 'B' 25.0 19.0 'Male']\n",
            " ['Prof' 'B' 17.0 15.207792207792208 'Male']\n",
            " ['AsstProf' 'B' 8.0 3.0 'Male']\n",
            " ['AsstProf' 'B' 4.0 0.0 'Female']\n",
            " ['Prof' 'A' 19.0 7.0 'Male']\n",
            " ['Prof' 'A' 19.32894736842105 27.0 'Male']\n",
            " ['AsstProf' 'B' 4.0 4.0 'Male']\n",
            " ['Prof' 'B' 33.0 30.0 'Male']\n",
            " ['AsstProf' 'A' 4.0 2.0 'Male']\n",
            " ['AsstProf' 'A' 2.0 0.0 'Male']\n",
            " ['Prof' 'A' 30.0 23.0 'Male']\n",
            " ['Prof' 'B' 35.0 31.0 'Male']\n",
            " ['Prof' 'A' 38.0 19.0 'Male']\n",
            " ['Prof' 'A' 45.0 43.0 'Male']\n",
            " ['AsstProf' 'B' 7.0 2.0 'Male']\n",
            " ['Prof' 'B' 21.0 20.0 'Male']\n",
            " ['AssocProf' 'B' 9.0 7.0 'Male']\n",
            " ['Prof' 'B' 22.0 21.0 'Male']\n",
            " ['Prof' 'B' 27.0 19.0 'Male']\n",
            " ['Prof' 'B' 18.0 18.0 'Male']\n",
            " ['Prof' 'B' 12.0 8.0 'Male']\n",
            " ['Prof' 'B' 28.0 23.0 'Male']\n",
            " ['Prof' 'B' 45.0 45.0 'Male']\n",
            " ['Prof' 'A' 20.0 8.0 'Male']\n",
            " ['AsstProf' 'B' 4.0 3.0 'Male']\n",
            " ['Prof' 'B' 18.0 18.0 'Female']\n",
            " ['Prof' 'A' 39.0 36.0 'Female']\n",
            " ['AssocProf' 'A' 13.0 8.0 'Female']\n",
            " ['Prof' 'B' 4.0 2.0 'Female']\n",
            " ['AsstProf' 'B' 5.0 0.0 'Female']\n",
            " ['Prof' 'B' 23.0 19.0 'Female']\n",
            " ['Prof' 'B' 25.0 25.0 'Female']\n",
            " ['AsstProf' 'B' 11.0 3.0 'Female']\n",
            " ['AssocProf' 'B' 11.0 11.0 'Female']\n",
            " ['Prof' 'B' 17.0 17.0 'Female']\n",
            " ['Prof' 'B' 17.0 18.0 'Female']\n",
            " ['AsstProf' 'B' 10.0 5.0 'Female']\n",
            " ['Prof' 'B' 20.0 14.0 'Female']\n",
            " ['Prof' 'A' 12.0 0.0 'Female']\n",
            " ['AsstProf' 'A' 5.0 3.0 'Female']\n",
            " ['AssocProf' 'A' 25.0 22.0 'Female']\n",
            " ['AsstProf' 'A' 2.0 0.0 'Female']\n",
            " ['AssocProf' 'A' 10.0 8.0 'Female']\n",
            " ['AsstProf' 'A' 3.0 1.0 'Female']\n",
            " ['Prof' 'B' 36.0 26.0 'Female']\n",
            " ['AssocProf' 'B' 12.0 10.0 'Female']\n",
            " ['AsstProf' 'B' 3.0 3.0 'Female']\n",
            " ['AssocProf' 'B' 13.0 10.0 'Female']\n",
            " ['AssocProf' 'B' 14.0 7.0 'Female']\n",
            " ['Prof' 'A' 29.0 27.0 'Female']\n",
            " ['AssocProf' 'A' 26.0 24.0 'Female']\n",
            " ['Prof' 'A' 36.0 19.0 'Female']\n",
            " ['AsstProf' 'A' 7.0 6.0 'Female']\n",
            " ['Prof' 'A' 17.0 11.0 'Female']\n",
            " ['AsstProf' 'A' 4.0 2.0 'Female']\n",
            " ['Prof' 'A' 28.0 7.0 'Female']\n",
            " ['AsstProf' 'A' 8.0 3.0 'Female']\n",
            " ['AssocProf' 'B' 12.0 9.0 'Female']\n",
            " ['Prof' 'B' 24.0 15.0 'Female']\n",
            " ['Prof' 'B' 18.0 10.0 'Female']\n",
            " ['AssocProf' 'B' 19.0 6.0 'Female']\n",
            " ['Prof' 'B' 17.0 17.0 'Female']\n",
            " ['Prof' 'A' 28.0 14.0 'Female']\n",
            " ['Prof' 'A' 23.0 15.0 'Female']]\n"
          ],
          "name": "stdout"
        }
      ]
    },
    {
      "cell_type": "code",
      "metadata": {
        "colab": {
          "base_uri": "https://localhost:8080/"
        },
        "id": "q-dGD5cGr_rM",
        "outputId": "39ba5a51-b589-4deb-f077-d5dee9adf49c"
      },
      "source": [
        "print(y)\r\n",
        "print(y.shape)"
      ],
      "execution_count": 53,
      "outputs": [
        {
          "output_type": "stream",
          "text": [
            "[186960  93000 110515 131205 104800 122400  81285 126300  94350  57800\n",
            " 128250 134778  88000 162200 153750 150480  75044  92000 107300 150500\n",
            "  92000 103106  73000  85000  91100  99418 148750 155865  91300 123683\n",
            " 107008 155750 103275 120000 119800 126933 146856 102000  91000 129000\n",
            " 137000  74830  80225  77000 151768 140096  74692 103613 111512 122960\n",
            "  97032 127512 105000  73500  62884  72500  77500  72500 144651 103994\n",
            "  92000 103750 109650  91000  73300 117555  63100  90450  77500 116450\n",
            "  78500  71065 161101 105450 104542 124312 109954 109646]\n",
            "(78,)\n"
          ],
          "name": "stdout"
        }
      ]
    },
    {
      "cell_type": "code",
      "metadata": {
        "id": "YdFVi5gmr_vx"
      },
      "source": [
        "# Encoding Categorical data:\r\n",
        "# Encoding the Independent Variable\r\n",
        "from sklearn.preprocessing import LabelEncoder\r\n",
        "labelencoder_X = LabelEncoder()\r\n",
        "X[:, 0] = labelencoder_X.fit_transform(X[:, 0])"
      ],
      "execution_count": 54,
      "outputs": []
    },
    {
      "cell_type": "code",
      "metadata": {
        "colab": {
          "base_uri": "https://localhost:8080/"
        },
        "id": "P4u-Jgmho3Q9",
        "outputId": "10792c53-65cc-46f8-c1eb-fd2a1117177e"
      },
      "source": [
        "print(X.shape)\r\n",
        "print(X)\r\n"
      ],
      "execution_count": 55,
      "outputs": [
        {
          "output_type": "stream",
          "text": [
            "(78, 5)\n",
            "[[2 'B' 56.0 49.0 'Male']\n",
            " [2 'A' 12.0 6.0 'Male']\n",
            " [2 'A' 23.0 20.0 'Male']\n",
            " [2 'A' 40.0 31.0 'Male']\n",
            " [2 'B' 20.0 18.0 'Male']\n",
            " [2 'A' 20.0 20.0 'Male']\n",
            " [0 'A' 20.0 17.0 'Male']\n",
            " [2 'A' 18.0 18.0 'Male']\n",
            " [2 'A' 29.0 19.0 'Male']\n",
            " [2 'A' 51.0 51.0 'Male']\n",
            " [2 'B' 19.32894736842105 33.0 'Male']\n",
            " [2 'B' 23.0 23.0 'Male']\n",
            " [1 'B' 1.0 0.0 'Male']\n",
            " [2 'B' 35.0 33.0 'Male']\n",
            " [2 'B' 25.0 19.0 'Male']\n",
            " [2 'B' 17.0 15.207792207792208 'Male']\n",
            " [1 'B' 8.0 3.0 'Male']\n",
            " [1 'B' 4.0 0.0 'Female']\n",
            " [2 'A' 19.0 7.0 'Male']\n",
            " [2 'A' 19.32894736842105 27.0 'Male']\n",
            " [1 'B' 4.0 4.0 'Male']\n",
            " [2 'B' 33.0 30.0 'Male']\n",
            " [1 'A' 4.0 2.0 'Male']\n",
            " [1 'A' 2.0 0.0 'Male']\n",
            " [2 'A' 30.0 23.0 'Male']\n",
            " [2 'B' 35.0 31.0 'Male']\n",
            " [2 'A' 38.0 19.0 'Male']\n",
            " [2 'A' 45.0 43.0 'Male']\n",
            " [1 'B' 7.0 2.0 'Male']\n",
            " [2 'B' 21.0 20.0 'Male']\n",
            " [0 'B' 9.0 7.0 'Male']\n",
            " [2 'B' 22.0 21.0 'Male']\n",
            " [2 'B' 27.0 19.0 'Male']\n",
            " [2 'B' 18.0 18.0 'Male']\n",
            " [2 'B' 12.0 8.0 'Male']\n",
            " [2 'B' 28.0 23.0 'Male']\n",
            " [2 'B' 45.0 45.0 'Male']\n",
            " [2 'A' 20.0 8.0 'Male']\n",
            " [1 'B' 4.0 3.0 'Male']\n",
            " [2 'B' 18.0 18.0 'Female']\n",
            " [2 'A' 39.0 36.0 'Female']\n",
            " [0 'A' 13.0 8.0 'Female']\n",
            " [2 'B' 4.0 2.0 'Female']\n",
            " [1 'B' 5.0 0.0 'Female']\n",
            " [2 'B' 23.0 19.0 'Female']\n",
            " [2 'B' 25.0 25.0 'Female']\n",
            " [1 'B' 11.0 3.0 'Female']\n",
            " [0 'B' 11.0 11.0 'Female']\n",
            " [2 'B' 17.0 17.0 'Female']\n",
            " [2 'B' 17.0 18.0 'Female']\n",
            " [1 'B' 10.0 5.0 'Female']\n",
            " [2 'B' 20.0 14.0 'Female']\n",
            " [2 'A' 12.0 0.0 'Female']\n",
            " [1 'A' 5.0 3.0 'Female']\n",
            " [0 'A' 25.0 22.0 'Female']\n",
            " [1 'A' 2.0 0.0 'Female']\n",
            " [0 'A' 10.0 8.0 'Female']\n",
            " [1 'A' 3.0 1.0 'Female']\n",
            " [2 'B' 36.0 26.0 'Female']\n",
            " [0 'B' 12.0 10.0 'Female']\n",
            " [1 'B' 3.0 3.0 'Female']\n",
            " [0 'B' 13.0 10.0 'Female']\n",
            " [0 'B' 14.0 7.0 'Female']\n",
            " [2 'A' 29.0 27.0 'Female']\n",
            " [0 'A' 26.0 24.0 'Female']\n",
            " [2 'A' 36.0 19.0 'Female']\n",
            " [1 'A' 7.0 6.0 'Female']\n",
            " [2 'A' 17.0 11.0 'Female']\n",
            " [1 'A' 4.0 2.0 'Female']\n",
            " [2 'A' 28.0 7.0 'Female']\n",
            " [1 'A' 8.0 3.0 'Female']\n",
            " [0 'B' 12.0 9.0 'Female']\n",
            " [2 'B' 24.0 15.0 'Female']\n",
            " [2 'B' 18.0 10.0 'Female']\n",
            " [0 'B' 19.0 6.0 'Female']\n",
            " [2 'B' 17.0 17.0 'Female']\n",
            " [2 'A' 28.0 14.0 'Female']\n",
            " [2 'A' 23.0 15.0 'Female']]\n"
          ],
          "name": "stdout"
        }
      ]
    },
    {
      "cell_type": "code",
      "metadata": {
        "colab": {
          "base_uri": "https://localhost:8080/"
        },
        "id": "eO8xHzQFo3T5",
        "outputId": "fe6e15a8-9fcf-49ae-8e7d-070acaae61f8"
      },
      "source": [
        "# Encoding Categorical data:\r\n",
        "# Encoding the Independent Variable\r\n",
        "from sklearn.preprocessing import LabelEncoder\r\n",
        "labelencoder_X = LabelEncoder()\r\n",
        "X[:, 1] = labelencoder_X.fit_transform(X[:, 1])\r\n",
        "print(X.shape)\r\n",
        "print(X)"
      ],
      "execution_count": 58,
      "outputs": [
        {
          "output_type": "stream",
          "text": [
            "(78, 5)\n",
            "[[2 1 56.0 49.0 'Male']\n",
            " [2 0 12.0 6.0 'Male']\n",
            " [2 0 23.0 20.0 'Male']\n",
            " [2 0 40.0 31.0 'Male']\n",
            " [2 1 20.0 18.0 'Male']\n",
            " [2 0 20.0 20.0 'Male']\n",
            " [0 0 20.0 17.0 'Male']\n",
            " [2 0 18.0 18.0 'Male']\n",
            " [2 0 29.0 19.0 'Male']\n",
            " [2 0 51.0 51.0 'Male']\n",
            " [2 1 19.32894736842105 33.0 'Male']\n",
            " [2 1 23.0 23.0 'Male']\n",
            " [1 1 1.0 0.0 'Male']\n",
            " [2 1 35.0 33.0 'Male']\n",
            " [2 1 25.0 19.0 'Male']\n",
            " [2 1 17.0 15.207792207792208 'Male']\n",
            " [1 1 8.0 3.0 'Male']\n",
            " [1 1 4.0 0.0 'Female']\n",
            " [2 0 19.0 7.0 'Male']\n",
            " [2 0 19.32894736842105 27.0 'Male']\n",
            " [1 1 4.0 4.0 'Male']\n",
            " [2 1 33.0 30.0 'Male']\n",
            " [1 0 4.0 2.0 'Male']\n",
            " [1 0 2.0 0.0 'Male']\n",
            " [2 0 30.0 23.0 'Male']\n",
            " [2 1 35.0 31.0 'Male']\n",
            " [2 0 38.0 19.0 'Male']\n",
            " [2 0 45.0 43.0 'Male']\n",
            " [1 1 7.0 2.0 'Male']\n",
            " [2 1 21.0 20.0 'Male']\n",
            " [0 1 9.0 7.0 'Male']\n",
            " [2 1 22.0 21.0 'Male']\n",
            " [2 1 27.0 19.0 'Male']\n",
            " [2 1 18.0 18.0 'Male']\n",
            " [2 1 12.0 8.0 'Male']\n",
            " [2 1 28.0 23.0 'Male']\n",
            " [2 1 45.0 45.0 'Male']\n",
            " [2 0 20.0 8.0 'Male']\n",
            " [1 1 4.0 3.0 'Male']\n",
            " [2 1 18.0 18.0 'Female']\n",
            " [2 0 39.0 36.0 'Female']\n",
            " [0 0 13.0 8.0 'Female']\n",
            " [2 1 4.0 2.0 'Female']\n",
            " [1 1 5.0 0.0 'Female']\n",
            " [2 1 23.0 19.0 'Female']\n",
            " [2 1 25.0 25.0 'Female']\n",
            " [1 1 11.0 3.0 'Female']\n",
            " [0 1 11.0 11.0 'Female']\n",
            " [2 1 17.0 17.0 'Female']\n",
            " [2 1 17.0 18.0 'Female']\n",
            " [1 1 10.0 5.0 'Female']\n",
            " [2 1 20.0 14.0 'Female']\n",
            " [2 0 12.0 0.0 'Female']\n",
            " [1 0 5.0 3.0 'Female']\n",
            " [0 0 25.0 22.0 'Female']\n",
            " [1 0 2.0 0.0 'Female']\n",
            " [0 0 10.0 8.0 'Female']\n",
            " [1 0 3.0 1.0 'Female']\n",
            " [2 1 36.0 26.0 'Female']\n",
            " [0 1 12.0 10.0 'Female']\n",
            " [1 1 3.0 3.0 'Female']\n",
            " [0 1 13.0 10.0 'Female']\n",
            " [0 1 14.0 7.0 'Female']\n",
            " [2 0 29.0 27.0 'Female']\n",
            " [0 0 26.0 24.0 'Female']\n",
            " [2 0 36.0 19.0 'Female']\n",
            " [1 0 7.0 6.0 'Female']\n",
            " [2 0 17.0 11.0 'Female']\n",
            " [1 0 4.0 2.0 'Female']\n",
            " [2 0 28.0 7.0 'Female']\n",
            " [1 0 8.0 3.0 'Female']\n",
            " [0 1 12.0 9.0 'Female']\n",
            " [2 1 24.0 15.0 'Female']\n",
            " [2 1 18.0 10.0 'Female']\n",
            " [0 1 19.0 6.0 'Female']\n",
            " [2 1 17.0 17.0 'Female']\n",
            " [2 0 28.0 14.0 'Female']\n",
            " [2 0 23.0 15.0 'Female']]\n"
          ],
          "name": "stdout"
        }
      ]
    },
    {
      "cell_type": "code",
      "metadata": {
        "id": "eFvzE2MY3rDF"
      },
      "source": [
        ""
      ],
      "execution_count": null,
      "outputs": []
    },
    {
      "cell_type": "code",
      "metadata": {
        "id": "pb4_KDMh3_tw"
      },
      "source": [
        ""
      ],
      "execution_count": null,
      "outputs": []
    },
    {
      "cell_type": "code",
      "metadata": {
        "colab": {
          "base_uri": "https://localhost:8080/"
        },
        "id": "Ne0rX9Omo3Wu",
        "outputId": "c8d3c114-145e-4466-c78a-6aba36553bb5"
      },
      "source": [
        "# Encoding Categorical data:\r\n",
        "# Encoding the Independent Variable\r\n",
        "from sklearn.preprocessing import LabelEncoder\r\n",
        "labelencoder_X = LabelEncoder()\r\n",
        "X[:, 4] = labelencoder_X.fit_transform(X[:, 4])\r\n",
        "print(X.shape)\r\n",
        "print(X)"
      ],
      "execution_count": 59,
      "outputs": [
        {
          "output_type": "stream",
          "text": [
            "(78, 5)\n",
            "[[2 1 56.0 49.0 1]\n",
            " [2 0 12.0 6.0 1]\n",
            " [2 0 23.0 20.0 1]\n",
            " [2 0 40.0 31.0 1]\n",
            " [2 1 20.0 18.0 1]\n",
            " [2 0 20.0 20.0 1]\n",
            " [0 0 20.0 17.0 1]\n",
            " [2 0 18.0 18.0 1]\n",
            " [2 0 29.0 19.0 1]\n",
            " [2 0 51.0 51.0 1]\n",
            " [2 1 19.32894736842105 33.0 1]\n",
            " [2 1 23.0 23.0 1]\n",
            " [1 1 1.0 0.0 1]\n",
            " [2 1 35.0 33.0 1]\n",
            " [2 1 25.0 19.0 1]\n",
            " [2 1 17.0 15.207792207792208 1]\n",
            " [1 1 8.0 3.0 1]\n",
            " [1 1 4.0 0.0 0]\n",
            " [2 0 19.0 7.0 1]\n",
            " [2 0 19.32894736842105 27.0 1]\n",
            " [1 1 4.0 4.0 1]\n",
            " [2 1 33.0 30.0 1]\n",
            " [1 0 4.0 2.0 1]\n",
            " [1 0 2.0 0.0 1]\n",
            " [2 0 30.0 23.0 1]\n",
            " [2 1 35.0 31.0 1]\n",
            " [2 0 38.0 19.0 1]\n",
            " [2 0 45.0 43.0 1]\n",
            " [1 1 7.0 2.0 1]\n",
            " [2 1 21.0 20.0 1]\n",
            " [0 1 9.0 7.0 1]\n",
            " [2 1 22.0 21.0 1]\n",
            " [2 1 27.0 19.0 1]\n",
            " [2 1 18.0 18.0 1]\n",
            " [2 1 12.0 8.0 1]\n",
            " [2 1 28.0 23.0 1]\n",
            " [2 1 45.0 45.0 1]\n",
            " [2 0 20.0 8.0 1]\n",
            " [1 1 4.0 3.0 1]\n",
            " [2 1 18.0 18.0 0]\n",
            " [2 0 39.0 36.0 0]\n",
            " [0 0 13.0 8.0 0]\n",
            " [2 1 4.0 2.0 0]\n",
            " [1 1 5.0 0.0 0]\n",
            " [2 1 23.0 19.0 0]\n",
            " [2 1 25.0 25.0 0]\n",
            " [1 1 11.0 3.0 0]\n",
            " [0 1 11.0 11.0 0]\n",
            " [2 1 17.0 17.0 0]\n",
            " [2 1 17.0 18.0 0]\n",
            " [1 1 10.0 5.0 0]\n",
            " [2 1 20.0 14.0 0]\n",
            " [2 0 12.0 0.0 0]\n",
            " [1 0 5.0 3.0 0]\n",
            " [0 0 25.0 22.0 0]\n",
            " [1 0 2.0 0.0 0]\n",
            " [0 0 10.0 8.0 0]\n",
            " [1 0 3.0 1.0 0]\n",
            " [2 1 36.0 26.0 0]\n",
            " [0 1 12.0 10.0 0]\n",
            " [1 1 3.0 3.0 0]\n",
            " [0 1 13.0 10.0 0]\n",
            " [0 1 14.0 7.0 0]\n",
            " [2 0 29.0 27.0 0]\n",
            " [0 0 26.0 24.0 0]\n",
            " [2 0 36.0 19.0 0]\n",
            " [1 0 7.0 6.0 0]\n",
            " [2 0 17.0 11.0 0]\n",
            " [1 0 4.0 2.0 0]\n",
            " [2 0 28.0 7.0 0]\n",
            " [1 0 8.0 3.0 0]\n",
            " [0 1 12.0 9.0 0]\n",
            " [2 1 24.0 15.0 0]\n",
            " [2 1 18.0 10.0 0]\n",
            " [0 1 19.0 6.0 0]\n",
            " [2 1 17.0 17.0 0]\n",
            " [2 0 28.0 14.0 0]\n",
            " [2 0 23.0 15.0 0]]\n"
          ],
          "name": "stdout"
        }
      ]
    },
    {
      "cell_type": "code",
      "metadata": {
        "id": "atAUo7_G3KnK"
      },
      "source": [
        ""
      ],
      "execution_count": null,
      "outputs": []
    }
  ]
}